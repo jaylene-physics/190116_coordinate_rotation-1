{
 "cells": [
  {
   "cell_type": "markdown",
   "metadata": {},
   "source": [
    "## Camera orientation\n",
    "\n",
    "The data that I provided to you in coordinates.txt was already in the camera coordinate system.  What can we do when this is not the case.  For example, what if all you know is the coordinate values of some points in east, west, and elevation, along with the location and rotational orientation of the camera?  We need to determine how to rotate the spatial coordinates of the world so that they are in the frame of reference of the camera, with $z$ pointing normal to the lens plane, and $x$ and $y$ parallel to it in the right and down directions.  \n",
    "\n",
    "Fundamentally, First, what we need to do is to translate the spatial coordinates ($\\mathbf{X}=\\{E,N,elevation\\}$) so that the camera ($\\mathbf{X}_{cam} = \\{E_{cam},N_{cam},z_{cam}\\}$ is located at the origin.  This is straightforward:\n",
    "$$\n",
    "\\mathbf{X}' = \\mathbf{X} - \\mathbf{X}_{cam}.\n",
    "$$\n",
    "Then, we need to apply a rotation matrix\n",
    "$$\n",
    "\\mathbf{x} = R \\mathbf{X}'.\n",
    "$$\n",
    "How do we compute the rotation matrix?  There are many options; those of you who have taken a course in graphics or game physics will have heard of multiple methods: Euler angles, axis-angle, and quaternions.  These are all discussed in the book, Section 2.1.4.  Here, we will focus on Euler angles because they are the most intuitive.  However, they suffer from a number of drawbacks that limit their use in real applications.  Still, it is useful to understand how they work.  \n",
    "\n",
    "We can form an arbitrary rotation matrix in 3D by sequentially applying a number of 2D rotations.  These rotations have familiar names if you've ever played any flight simulation games: yaw (rotation around the coordinate facing 'up', pitch (rotation around the coordinate facing to the side), and roll(rotation around the coordinate facing forward).  The matrices look like this:\n",
    "<img src=\"rotations.svg\">\n",
    "If we compose them, we have:\n",
    "<img src=\"rotation_composition.svg\">\n",
    "where $\\gamma$ is the yaw angle, $\\beta$ the pitch angle, and $\\alpha$ the roll angle.  \n",
    "\n",
    "This leads to an obnoxious but effective formula for rotating spatial coordinates into camera coordinates, by first rotating the cartesian coordinate system such that $z$ is North, $x$ is East, and $y$ is down, and then applying the Euler angle rotations in sequence. \n",
    "$$ R = \\begin{bmatrix}\n",
    "            \\cos\\theta_0 \\cos\\theta_2 + \\sin\\theta_0\\sin\\theta_1\\sin\\theta_2 & \\cos\\theta_0\\sin\\theta_1\\sin\\theta_2 - \\cos\\theta_2\\sin\\theta_0 & -\\cos\\theta_1\\sin\\theta_0 \\\\\n",
    "            \\cos\\theta_1\\sin\\theta_0\\sin\\theta_1 -\\cos\\theta_0\\sin\\theta_2 & \\sin\\theta_0\\sin\\theta_2 + \\cos\\theta_0\\cos\\theta_2\\sin\\theta_2 & -\\cos\\theta_1\\cos\\theta_2  \\\\       \n",
    "            \\cos\\theta_1\\sin\\theta_0 & \\cos\\theta_0\\cos\\theta_1 & \\sin\\theta_1\n",
    "            \\end{bmatrix} \n",
    "        $$\n",
    "where $\\theta_0,\\theta_1,\\theta_2$ are the azimuth (angular direction from north in the clockwise direction), pitch, and roll of the camera.\n",
    "\n",
    "Your objective is to construct a function that generates this rotation matrix and applies it to an arbitrary set of points in the ENE coordinate system.  To test your function, apply it to the attached file coordinates_ene.txt, assuming a camera azimuth of 45 degrees, a pitch of -10 degrees, and a roll of zero degrees, and camera coordinates easting=10000, northing=5000, elevation=1000.  Ensure that the resulting transformed coordinates match the entries in coordinates.txt from the previous class.\n",
    "\n"
   ]
  },
  {
   "cell_type": "code",
   "execution_count": null,
   "metadata": {},
   "outputs": [],
   "source": []
  }
 ],
 "metadata": {
  "kernelspec": {
   "display_name": "Python 3",
   "language": "python",
   "name": "python3"
  },
  "language_info": {
   "codemirror_mode": {
    "name": "ipython",
    "version": 3
   },
   "file_extension": ".py",
   "mimetype": "text/x-python",
   "name": "python",
   "nbconvert_exporter": "python",
   "pygments_lexer": "ipython3",
   "version": "3.6.5"
  }
 },
 "nbformat": 4,
 "nbformat_minor": 2
}
